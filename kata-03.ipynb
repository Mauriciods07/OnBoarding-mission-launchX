{
 "cells": [
  {
   "cell_type": "markdown",
   "metadata": {},
   "source": [
    "## Ejercicio - Escribir declaraciones `if`, `else` y `elif`"
   ]
  },
  {
   "cell_type": "markdown",
   "metadata": {},
   "source": [
    "Para este ejercicio, escribirás una lógica condicional que imprima una advertencia si un asteroide se acerca a la Tierra demasiado rápido. La velocidad del asteroide varía dependiendo de lo cerca que esté del sol, y cualquier velocidad superior a 25 kilómetros por segundo (km/s) merece una advertencia.\n",
    "\n",
    "Un asteroide se acerca, y viaja a una velocidad de 49 km/s."
   ]
  },
  {
   "cell_type": "code",
   "execution_count": 2,
   "metadata": {},
   "outputs": [
    {
     "name": "stdout",
     "output_type": "stream",
     "text": [
      "El asteroide está muy cerca, ¡eleven precauciones!\n"
     ]
    }
   ],
   "source": [
    "velocidad = 49\n",
    "\n",
    "if (velocidad > 25):\n",
    "    print(\"El asteroide está muy cerca, ¡eleven precauciones!\")\n",
    "else:\n",
    "    print(\"No hay peligro por ahora, manténganse alerta\")"
   ]
  },
  {
   "cell_type": "code",
   "execution_count": 4,
   "metadata": {},
   "outputs": [
    {
     "name": "stdout",
     "output_type": "stream",
     "text": [
      "El asteroide no producirá ninguna luz\n"
     ]
    }
   ],
   "source": [
    "velocidad2 = 19\n",
    "\n",
    "if (velocidad2 > 20):\n",
    "    print(\"¡Vean al cielo, el asteroide puede producir luz!\")\n",
    "elif (velocidad2 == 20):\n",
    "    print(\"¡Vean al cielo, el asteroide puede producir luz!\")\n",
    "else:\n",
    "    print(\"El asteroide no producirá ninguna luz\")"
   ]
  },
  {
   "cell_type": "code",
   "execution_count": 6,
   "metadata": {},
   "outputs": [
    {
     "name": "stdout",
     "output_type": "stream",
     "text": [
      "No hay peligro ni luz por ahora\n"
     ]
    }
   ],
   "source": [
    "velocidad3 = 10\n",
    "tamanio = 50\n",
    "\n",
    "if (velocidad3 > 25 and tamanio > 25):\n",
    "    print('¡Cuidado, un asteroide se aproxima!')\n",
    "elif (velocidad3 >= 20):\n",
    "    print('¡Vean al cielo, el asteroide puede producir luz!')\n",
    "elif (tamanio < 25):\n",
    "    print('No hay ningún peligro por ahora')\n",
    "else:\n",
    "    print('No hay peligro ni luz por ahora')"
   ]
  },
  {
   "cell_type": "code",
   "execution_count": null,
   "metadata": {},
   "outputs": [],
   "source": []
  }
 ],
 "metadata": {
  "interpreter": {
   "hash": "57baa5815c940fdaff4d14510622de9616cae602444507ba5d0b6727c008cbd6"
  },
  "kernelspec": {
   "display_name": "Python 3.7.8 64-bit",
   "language": "python",
   "name": "python3"
  },
  "language_info": {
   "codemirror_mode": {
    "name": "ipython",
    "version": 3
   },
   "file_extension": ".py",
   "mimetype": "text/x-python",
   "name": "python",
   "nbconvert_exporter": "python",
   "pygments_lexer": "ipython3",
   "version": "3.9.6"
  },
  "orig_nbformat": 4
 },
 "nbformat": 4,
 "nbformat_minor": 2
}
